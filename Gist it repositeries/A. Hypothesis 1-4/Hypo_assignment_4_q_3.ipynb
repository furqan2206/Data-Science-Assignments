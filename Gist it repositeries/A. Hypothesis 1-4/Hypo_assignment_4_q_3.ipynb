{
 "cells": [
  {
   "cell_type": "code",
   "execution_count": 15,
   "id": "94a5ff4a",
   "metadata": {
    "ExecuteTime": {
     "end_time": "2023-03-10T13:00:44.021248Z",
     "start_time": "2023-03-10T13:00:44.015202Z"
    }
   },
   "outputs": [],
   "source": [
    "import pandas as pd\n",
    "import numpy as np\n",
    "import seaborn as sns\n",
    "import scipy\n",
    "from scipy import stats"
   ]
  },
  {
   "cell_type": "code",
   "execution_count": 19,
   "id": "7c51c4ab",
   "metadata": {
    "ExecuteTime": {
     "end_time": "2023-03-10T13:02:16.417537Z",
     "start_time": "2023-03-10T13:02:16.403530Z"
    }
   },
   "outputs": [
    {
     "data": {
      "text/html": [
       "<div>\n",
       "<style scoped>\n",
       "    .dataframe tbody tr th:only-of-type {\n",
       "        vertical-align: middle;\n",
       "    }\n",
       "\n",
       "    .dataframe tbody tr th {\n",
       "        vertical-align: top;\n",
       "    }\n",
       "\n",
       "    .dataframe thead th {\n",
       "        text-align: right;\n",
       "    }\n",
       "</style>\n",
       "<table border=\"1\" class=\"dataframe\">\n",
       "  <thead>\n",
       "    <tr style=\"text-align: right;\">\n",
       "      <th></th>\n",
       "      <th>Observed Values</th>\n",
       "      <th>East</th>\n",
       "      <th>West</th>\n",
       "      <th>North</th>\n",
       "      <th>South</th>\n",
       "    </tr>\n",
       "  </thead>\n",
       "  <tbody>\n",
       "    <tr>\n",
       "      <th>0</th>\n",
       "      <td>Males</td>\n",
       "      <td>50</td>\n",
       "      <td>142</td>\n",
       "      <td>131</td>\n",
       "      <td>70</td>\n",
       "    </tr>\n",
       "    <tr>\n",
       "      <th>1</th>\n",
       "      <td>Females</td>\n",
       "      <td>435</td>\n",
       "      <td>1523</td>\n",
       "      <td>1356</td>\n",
       "      <td>750</td>\n",
       "    </tr>\n",
       "  </tbody>\n",
       "</table>\n",
       "</div>"
      ],
      "text/plain": [
       "  Observed Values  East  West  North  South\n",
       "0           Males    50   142    131     70\n",
       "1         Females   435  1523   1356    750"
      ]
     },
     "execution_count": 19,
     "metadata": {},
     "output_type": "execute_result"
    }
   ],
   "source": [
    "df=pd.read_csv('BuyerRatio.csv')\n",
    "df"
   ]
  },
  {
   "cell_type": "code",
   "execution_count": 20,
   "id": "019b2ec5",
   "metadata": {
    "ExecuteTime": {
     "end_time": "2023-03-10T13:02:20.728537Z",
     "start_time": "2023-03-10T13:02:20.719078Z"
    }
   },
   "outputs": [
    {
     "data": {
      "text/html": [
       "<div>\n",
       "<style scoped>\n",
       "    .dataframe tbody tr th:only-of-type {\n",
       "        vertical-align: middle;\n",
       "    }\n",
       "\n",
       "    .dataframe tbody tr th {\n",
       "        vertical-align: top;\n",
       "    }\n",
       "\n",
       "    .dataframe thead th {\n",
       "        text-align: right;\n",
       "    }\n",
       "</style>\n",
       "<table border=\"1\" class=\"dataframe\">\n",
       "  <thead>\n",
       "    <tr style=\"text-align: right;\">\n",
       "      <th></th>\n",
       "      <th>Observed Values</th>\n",
       "      <th>East</th>\n",
       "      <th>West</th>\n",
       "      <th>North</th>\n",
       "      <th>South</th>\n",
       "    </tr>\n",
       "  </thead>\n",
       "  <tbody>\n",
       "    <tr>\n",
       "      <th>0</th>\n",
       "      <td>Males</td>\n",
       "      <td>50</td>\n",
       "      <td>142</td>\n",
       "      <td>131</td>\n",
       "      <td>70</td>\n",
       "    </tr>\n",
       "    <tr>\n",
       "      <th>1</th>\n",
       "      <td>Females</td>\n",
       "      <td>435</td>\n",
       "      <td>1523</td>\n",
       "      <td>1356</td>\n",
       "      <td>750</td>\n",
       "    </tr>\n",
       "  </tbody>\n",
       "</table>\n",
       "</div>"
      ],
      "text/plain": [
       "  Observed Values  East  West  North  South\n",
       "0           Males    50   142    131     70\n",
       "1         Females   435  1523   1356    750"
      ]
     },
     "execution_count": 20,
     "metadata": {},
     "output_type": "execute_result"
    }
   ],
   "source": [
    "df.head()"
   ]
  },
  {
   "cell_type": "code",
   "execution_count": 22,
   "id": "ec0cb1b1",
   "metadata": {
    "ExecuteTime": {
     "end_time": "2023-03-10T13:04:16.540969Z",
     "start_time": "2023-03-10T13:04:16.531029Z"
    }
   },
   "outputs": [
    {
     "data": {
      "text/html": [
       "<div>\n",
       "<style scoped>\n",
       "    .dataframe tbody tr th:only-of-type {\n",
       "        vertical-align: middle;\n",
       "    }\n",
       "\n",
       "    .dataframe tbody tr th {\n",
       "        vertical-align: top;\n",
       "    }\n",
       "\n",
       "    .dataframe thead th {\n",
       "        text-align: right;\n",
       "    }\n",
       "</style>\n",
       "<table border=\"1\" class=\"dataframe\">\n",
       "  <thead>\n",
       "    <tr style=\"text-align: right;\">\n",
       "      <th></th>\n",
       "      <th>East</th>\n",
       "      <th>West</th>\n",
       "      <th>North</th>\n",
       "      <th>South</th>\n",
       "    </tr>\n",
       "  </thead>\n",
       "  <tbody>\n",
       "    <tr>\n",
       "      <th>0</th>\n",
       "      <td>50</td>\n",
       "      <td>142</td>\n",
       "      <td>131</td>\n",
       "      <td>70</td>\n",
       "    </tr>\n",
       "    <tr>\n",
       "      <th>1</th>\n",
       "      <td>435</td>\n",
       "      <td>1523</td>\n",
       "      <td>1356</td>\n",
       "      <td>750</td>\n",
       "    </tr>\n",
       "  </tbody>\n",
       "</table>\n",
       "</div>"
      ],
      "text/plain": [
       "   East  West  North  South\n",
       "0    50   142    131     70\n",
       "1   435  1523   1356    750"
      ]
     },
     "execution_count": 22,
     "metadata": {},
     "output_type": "execute_result"
    }
   ],
   "source": [
    "df1=df.iloc[:,1:6]\n",
    "df1"
   ]
  },
  {
   "cell_type": "code",
   "execution_count": 23,
   "id": "bf29ca4f",
   "metadata": {
    "ExecuteTime": {
     "end_time": "2023-03-10T13:04:38.122383Z",
     "start_time": "2023-03-10T13:04:38.113328Z"
    }
   },
   "outputs": [
    {
     "data": {
      "text/plain": [
       "array([[  50,  142,  131,   70],\n",
       "       [ 435, 1523, 1356,  750]], dtype=int64)"
      ]
     },
     "execution_count": 23,
     "metadata": {},
     "output_type": "execute_result"
    }
   ],
   "source": [
    "df1.values"
   ]
  },
  {
   "cell_type": "code",
   "execution_count": 24,
   "id": "1312947a",
   "metadata": {
    "ExecuteTime": {
     "end_time": "2023-03-10T13:05:14.184625Z",
     "start_time": "2023-03-10T13:05:14.167618Z"
    }
   },
   "outputs": [],
   "source": [
    "df2=stats.chi2_contingency(df1)"
   ]
  },
  {
   "cell_type": "code",
   "execution_count": 25,
   "id": "efacb737",
   "metadata": {
    "ExecuteTime": {
     "end_time": "2023-03-10T13:05:17.868688Z",
     "start_time": "2023-03-10T13:05:17.848129Z"
    }
   },
   "outputs": [
    {
     "data": {
      "text/plain": [
       "(1.595945538661058,\n",
       " 0.6603094907091882,\n",
       " 3,\n",
       " array([[  42.76531299,  146.81287862,  131.11756787,   72.30424052],\n",
       "        [ 442.23468701, 1518.18712138, 1355.88243213,  747.69575948]]))"
      ]
     },
     "execution_count": 25,
     "metadata": {},
     "output_type": "execute_result"
    }
   ],
   "source": [
    "df2"
   ]
  },
  {
   "cell_type": "code",
   "execution_count": 27,
   "id": "316d5006",
   "metadata": {
    "ExecuteTime": {
     "end_time": "2023-03-10T13:09:12.104884Z",
     "start_time": "2023-03-10T13:09:12.080664Z"
    }
   },
   "outputs": [
    {
     "name": "stdout",
     "output_type": "stream",
     "text": [
      "Degrees_of_Freedom= 3\n"
     ]
    }
   ],
   "source": [
    "no_of_row=len(df1.iloc[0:2,0])\n",
    "no_of_columns=len(df1.iloc[0,0:4])\n",
    "degreed_of_f=(no_of_row-1)*(no_of_columns-1)\n",
    "print('Degrees_of_Freedom=',degreed_of_f)"
   ]
  },
  {
   "cell_type": "code",
   "execution_count": 31,
   "id": "c8249ed5",
   "metadata": {
    "ExecuteTime": {
     "end_time": "2023-03-10T13:11:15.784641Z",
     "start_time": "2023-03-10T13:11:15.768416Z"
    }
   },
   "outputs": [],
   "source": [
    "value=df2[3]"
   ]
  },
  {
   "cell_type": "code",
   "execution_count": 32,
   "id": "f779f548",
   "metadata": {
    "ExecuteTime": {
     "end_time": "2023-03-10T13:11:25.446664Z",
     "start_time": "2023-03-10T13:11:25.439634Z"
    }
   },
   "outputs": [
    {
     "data": {
      "text/plain": [
       "array([[  42.76531299,  146.81287862,  131.11756787,   72.30424052],\n",
       "       [ 442.23468701, 1518.18712138, 1355.88243213,  747.69575948]])"
      ]
     },
     "execution_count": 32,
     "metadata": {},
     "output_type": "execute_result"
    }
   ],
   "source": [
    "value"
   ]
  },
  {
   "cell_type": "code",
   "execution_count": 33,
   "id": "1a57b9bf",
   "metadata": {
    "ExecuteTime": {
     "end_time": "2023-03-10T13:13:09.953082Z",
     "start_time": "2023-03-10T13:13:09.943980Z"
    }
   },
   "outputs": [
    {
     "data": {
      "text/plain": [
       "1.5152956451130446"
      ]
     },
     "execution_count": 33,
     "metadata": {},
     "output_type": "execute_result"
    }
   ],
   "source": [
    "from scipy.stats import chi2\n",
    "chi_square=sum([(o-e)**2/e for o,e in zip(df1.values,value)])\n",
    "chi_square_statestic=chi_square[0]+chi_square[1]\n",
    "chi_square_statestic"
   ]
  },
  {
   "cell_type": "code",
   "execution_count": 34,
   "id": "61583e03",
   "metadata": {
    "ExecuteTime": {
     "end_time": "2023-03-10T13:13:20.417761Z",
     "start_time": "2023-03-10T13:13:20.400077Z"
    }
   },
   "outputs": [
    {
     "data": {
      "text/plain": [
       "7.814727903251179"
      ]
     },
     "execution_count": 34,
     "metadata": {},
     "output_type": "execute_result"
    }
   ],
   "source": [
    "critical_value=chi2.ppf(0.95,3)\n",
    "critical_value"
   ]
  },
  {
   "cell_type": "code",
   "execution_count": 35,
   "id": "bc067751",
   "metadata": {
    "ExecuteTime": {
     "end_time": "2023-03-10T13:13:38.884800Z",
     "start_time": "2023-03-10T13:13:38.868793Z"
    }
   },
   "outputs": [
    {
     "name": "stdout",
     "output_type": "stream",
     "text": [
      "Independent (fail to reject H0)\n"
     ]
    }
   ],
   "source": [
    "if chi_square_statestic >= critical_value:\n",
    "\tprint('Dependent (reject H0)')\n",
    "else:\n",
    "\tprint('Independent (fail to reject H0)')"
   ]
  },
  {
   "cell_type": "code",
   "execution_count": 36,
   "id": "d8010719",
   "metadata": {
    "ExecuteTime": {
     "end_time": "2023-03-10T13:13:48.446487Z",
     "start_time": "2023-03-10T13:13:48.431488Z"
    }
   },
   "outputs": [
    {
     "data": {
      "text/plain": [
       "0.6787446296467897"
      ]
     },
     "execution_count": 36,
     "metadata": {},
     "output_type": "execute_result"
    }
   ],
   "source": [
    "pvalue=1-chi2.cdf(chi_square_statestic,3)\n",
    "pvalue"
   ]
  },
  {
   "cell_type": "code",
   "execution_count": 37,
   "id": "0c595a51",
   "metadata": {
    "ExecuteTime": {
     "end_time": "2023-03-10T13:13:56.997103Z",
     "start_time": "2023-03-10T13:13:56.986736Z"
    }
   },
   "outputs": [
    {
     "name": "stdout",
     "output_type": "stream",
     "text": [
      "Independent (fail to reject H0)\n"
     ]
    }
   ],
   "source": [
    "if pvalue <= 0.05:\n",
    "\tprint('Dependent (reject H0)')\n",
    "else:\n",
    "\tprint('Independent (fail to reject H0)')"
   ]
  },
  {
   "cell_type": "code",
   "execution_count": null,
   "id": "54d6ec7b",
   "metadata": {},
   "outputs": [],
   "source": []
  }
 ],
 "metadata": {
  "kernelspec": {
   "display_name": "Python 3 (ipykernel)",
   "language": "python",
   "name": "python3"
  },
  "language_info": {
   "codemirror_mode": {
    "name": "ipython",
    "version": 3
   },
   "file_extension": ".py",
   "mimetype": "text/x-python",
   "name": "python",
   "nbconvert_exporter": "python",
   "pygments_lexer": "ipython3",
   "version": "3.9.13"
  }
 },
 "nbformat": 4,
 "nbformat_minor": 5
}
